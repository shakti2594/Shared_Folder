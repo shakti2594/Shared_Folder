{
 "cells": [
  {
   "cell_type": "code",
   "execution_count": 1,
   "id": "febd5fca-0973-4c76-a7c4-698d0dfab4cf",
   "metadata": {},
   "outputs": [],
   "source": [
    "import pandas as pd\n",
    "import numpy as np\n",
    "import time\n",
    "import matplotlib.pyplot as plt\n",
    "import tensorflow as tf\n",
    "from tensorflow import keras\n",
    "from keras import backend as K\n",
    "from sklearn.preprocessing import StandardScaler"
   ]
  },
  {
   "cell_type": "code",
   "execution_count": 22,
   "id": "b7bb2a71-c56a-4fb6-b072-8e3cb9d3f364",
   "metadata": {},
   "outputs": [],
   "source": [
    "df = pd.read_csv('C:\\\\Users\\\\shakt\\\\Downloads\\\\playground\\\\csv_corner\\\\data\\\\data.csv')"
   ]
  },
  {
   "cell_type": "code",
   "execution_count": 23,
   "id": "9b8d4bef-76b6-4abe-b36f-50f61b9939a4",
   "metadata": {},
   "outputs": [
    {
     "data": {
      "text/html": [
       "<div>\n",
       "<style scoped>\n",
       "    .dataframe tbody tr th:only-of-type {\n",
       "        vertical-align: middle;\n",
       "    }\n",
       "\n",
       "    .dataframe tbody tr th {\n",
       "        vertical-align: top;\n",
       "    }\n",
       "\n",
       "    .dataframe thead th {\n",
       "        text-align: right;\n",
       "    }\n",
       "</style>\n",
       "<table border=\"1\" class=\"dataframe\">\n",
       "  <thead>\n",
       "    <tr style=\"text-align: right;\">\n",
       "      <th></th>\n",
       "      <th>row_id</th>\n",
       "      <th>F_1_0</th>\n",
       "      <th>F_1_1</th>\n",
       "      <th>F_1_2</th>\n",
       "      <th>F_1_3</th>\n",
       "      <th>F_1_4</th>\n",
       "      <th>F_1_5</th>\n",
       "      <th>F_1_6</th>\n",
       "      <th>F_1_7</th>\n",
       "      <th>F_1_8</th>\n",
       "      <th>...</th>\n",
       "      <th>F_4_5</th>\n",
       "      <th>F_4_6</th>\n",
       "      <th>F_4_7</th>\n",
       "      <th>F_4_8</th>\n",
       "      <th>F_4_9</th>\n",
       "      <th>F_4_10</th>\n",
       "      <th>F_4_11</th>\n",
       "      <th>F_4_12</th>\n",
       "      <th>F_4_13</th>\n",
       "      <th>F_4_14</th>\n",
       "    </tr>\n",
       "  </thead>\n",
       "  <tbody>\n",
       "    <tr>\n",
       "      <th>0</th>\n",
       "      <td>0</td>\n",
       "      <td>-0.354591</td>\n",
       "      <td>-0.464038</td>\n",
       "      <td>2.304115</td>\n",
       "      <td>0.734486</td>\n",
       "      <td>1.696395</td>\n",
       "      <td>0.136285</td>\n",
       "      <td>-0.518344</td>\n",
       "      <td>0.502640</td>\n",
       "      <td>-1.852504</td>\n",
       "      <td>...</td>\n",
       "      <td>3.744152</td>\n",
       "      <td>0.794438</td>\n",
       "      <td>0.265185</td>\n",
       "      <td>-0.561809</td>\n",
       "      <td>0.196480</td>\n",
       "      <td>0.373434</td>\n",
       "      <td>6.206995</td>\n",
       "      <td>3.809505</td>\n",
       "      <td>1.236486</td>\n",
       "      <td>1.182055</td>\n",
       "    </tr>\n",
       "    <tr>\n",
       "      <th>1</th>\n",
       "      <td>1</td>\n",
       "      <td>1.380940</td>\n",
       "      <td>-0.499626</td>\n",
       "      <td>-0.418548</td>\n",
       "      <td>1.911725</td>\n",
       "      <td>-0.826130</td>\n",
       "      <td>-1.715371</td>\n",
       "      <td>-0.577091</td>\n",
       "      <td>-1.041486</td>\n",
       "      <td>0.596067</td>\n",
       "      <td>...</td>\n",
       "      <td>-2.895826</td>\n",
       "      <td>-0.738275</td>\n",
       "      <td>2.361818</td>\n",
       "      <td>-0.060753</td>\n",
       "      <td>0.727249</td>\n",
       "      <td>-0.271882</td>\n",
       "      <td>5.232157</td>\n",
       "      <td>-4.218259</td>\n",
       "      <td>-2.724883</td>\n",
       "      <td>-0.063775</td>\n",
       "    </tr>\n",
       "    <tr>\n",
       "      <th>2</th>\n",
       "      <td>2</td>\n",
       "      <td>0.256023</td>\n",
       "      <td>-1.059874</td>\n",
       "      <td>NaN</td>\n",
       "      <td>0.345678</td>\n",
       "      <td>1.513814</td>\n",
       "      <td>1.243864</td>\n",
       "      <td>-0.509648</td>\n",
       "      <td>-0.800481</td>\n",
       "      <td>-0.115945</td>\n",
       "      <td>...</td>\n",
       "      <td>2.252834</td>\n",
       "      <td>0.472496</td>\n",
       "      <td>2.491386</td>\n",
       "      <td>0.353381</td>\n",
       "      <td>-0.260682</td>\n",
       "      <td>-0.000833</td>\n",
       "      <td>-0.116457</td>\n",
       "      <td>-2.131747</td>\n",
       "      <td>3.661499</td>\n",
       "      <td>-0.131576</td>\n",
       "    </tr>\n",
       "    <tr>\n",
       "      <th>3</th>\n",
       "      <td>3</td>\n",
       "      <td>-0.728420</td>\n",
       "      <td>-2.432399</td>\n",
       "      <td>-2.453602</td>\n",
       "      <td>-0.020509</td>\n",
       "      <td>0.333397</td>\n",
       "      <td>0.086049</td>\n",
       "      <td>-1.787601</td>\n",
       "      <td>0.667011</td>\n",
       "      <td>0.761564</td>\n",
       "      <td>...</td>\n",
       "      <td>2.004600</td>\n",
       "      <td>-4.664806</td>\n",
       "      <td>-0.847211</td>\n",
       "      <td>-0.264249</td>\n",
       "      <td>0.664334</td>\n",
       "      <td>-0.557868</td>\n",
       "      <td>8.499483</td>\n",
       "      <td>-4.738799</td>\n",
       "      <td>-3.054611</td>\n",
       "      <td>0.494152</td>\n",
       "    </tr>\n",
       "    <tr>\n",
       "      <th>4</th>\n",
       "      <td>4</td>\n",
       "      <td>0.590212</td>\n",
       "      <td>-0.066127</td>\n",
       "      <td>0.468009</td>\n",
       "      <td>-1.096038</td>\n",
       "      <td>0.119399</td>\n",
       "      <td>-1.809710</td>\n",
       "      <td>0.466358</td>\n",
       "      <td>-0.053196</td>\n",
       "      <td>-0.580320</td>\n",
       "      <td>...</td>\n",
       "      <td>0.976937</td>\n",
       "      <td>2.558883</td>\n",
       "      <td>3.377724</td>\n",
       "      <td>0.846891</td>\n",
       "      <td>0.696032</td>\n",
       "      <td>0.554121</td>\n",
       "      <td>-5.979714</td>\n",
       "      <td>-2.869631</td>\n",
       "      <td>3.733057</td>\n",
       "      <td>-0.722943</td>\n",
       "    </tr>\n",
       "  </tbody>\n",
       "</table>\n",
       "<p>5 rows × 81 columns</p>\n",
       "</div>"
      ],
      "text/plain": [
       "   row_id     F_1_0     F_1_1     F_1_2     F_1_3     F_1_4     F_1_5  \\\n",
       "0       0 -0.354591 -0.464038  2.304115  0.734486  1.696395  0.136285   \n",
       "1       1  1.380940 -0.499626 -0.418548  1.911725 -0.826130 -1.715371   \n",
       "2       2  0.256023 -1.059874       NaN  0.345678  1.513814  1.243864   \n",
       "3       3 -0.728420 -2.432399 -2.453602 -0.020509  0.333397  0.086049   \n",
       "4       4  0.590212 -0.066127  0.468009 -1.096038  0.119399 -1.809710   \n",
       "\n",
       "      F_1_6     F_1_7     F_1_8  ...     F_4_5     F_4_6     F_4_7     F_4_8  \\\n",
       "0 -0.518344  0.502640 -1.852504  ...  3.744152  0.794438  0.265185 -0.561809   \n",
       "1 -0.577091 -1.041486  0.596067  ... -2.895826 -0.738275  2.361818 -0.060753   \n",
       "2 -0.509648 -0.800481 -0.115945  ...  2.252834  0.472496  2.491386  0.353381   \n",
       "3 -1.787601  0.667011  0.761564  ...  2.004600 -4.664806 -0.847211 -0.264249   \n",
       "4  0.466358 -0.053196 -0.580320  ...  0.976937  2.558883  3.377724  0.846891   \n",
       "\n",
       "      F_4_9    F_4_10    F_4_11    F_4_12    F_4_13    F_4_14  \n",
       "0  0.196480  0.373434  6.206995  3.809505  1.236486  1.182055  \n",
       "1  0.727249 -0.271882  5.232157 -4.218259 -2.724883 -0.063775  \n",
       "2 -0.260682 -0.000833 -0.116457 -2.131747  3.661499 -0.131576  \n",
       "3  0.664334 -0.557868  8.499483 -4.738799 -3.054611  0.494152  \n",
       "4  0.696032  0.554121 -5.979714 -2.869631  3.733057 -0.722943  \n",
       "\n",
       "[5 rows x 81 columns]"
      ]
     },
     "execution_count": 23,
     "metadata": {},
     "output_type": "execute_result"
    }
   ],
   "source": [
    "df.head()"
   ]
  },
  {
   "cell_type": "code",
   "execution_count": 24,
   "id": "8339c67c-2263-4aff-94e1-e8e350208925",
   "metadata": {},
   "outputs": [
    {
     "data": {
      "text/plain": [
       "(1000000, 81)"
      ]
     },
     "execution_count": 24,
     "metadata": {},
     "output_type": "execute_result"
    }
   ],
   "source": [
    "df.shape"
   ]
  },
  {
   "cell_type": "code",
   "execution_count": 25,
   "id": "b03cfd5a-b470-414d-a933-7eb256626d72",
   "metadata": {},
   "outputs": [],
   "source": [
    "df = df[['F_1_0', 'F_1_1']]"
   ]
  },
  {
   "cell_type": "code",
   "execution_count": 26,
   "id": "63ddf0f2-236a-447a-aebf-925e3e3547d5",
   "metadata": {},
   "outputs": [
    {
     "data": {
      "text/plain": [
       "F_1_0    18397\n",
       "F_1_1    18216\n",
       "dtype: int64"
      ]
     },
     "execution_count": 26,
     "metadata": {},
     "output_type": "execute_result"
    }
   ],
   "source": [
    "df.isna().sum()"
   ]
  },
  {
   "cell_type": "code",
   "execution_count": 27,
   "id": "0b7b34de-afda-444d-a8b4-0d464757018d",
   "metadata": {},
   "outputs": [
    {
     "data": {
      "text/plain": [
       "pandas.core.frame.DataFrame"
      ]
     },
     "execution_count": 27,
     "metadata": {},
     "output_type": "execute_result"
    }
   ],
   "source": [
    "type(df)"
   ]
  },
  {
   "cell_type": "code",
   "execution_count": 60,
   "id": "7eeaf5f6-51b0-47ad-8554-9cdbdbca9476",
   "metadata": {},
   "outputs": [],
   "source": [
    "scaler = StandardScaler()\n",
    "train_data = scaler.fit_transform(df)#.drop('row_id', axis = 1))"
   ]
  },
  {
   "cell_type": "code",
   "execution_count": 72,
   "id": "ceb1d9da-bc8b-4244-9e48-fd757955a9ae",
   "metadata": {},
   "outputs": [],
   "source": [
    "BUFFER_SIZE = 900000\n",
    "BATCH_SIZE = 128\n",
    "train_dataset = tf.data.Dataset.from_tensor_slices(train_data).shuffle(BUFFER_SIZE).batch(BATCH_SIZE, drop_remainder=True)"
   ]
  },
  {
   "cell_type": "code",
   "execution_count": 73,
   "id": "6c2f094b-8e9c-4c24-ae13-8b3f1d7aff6c",
   "metadata": {},
   "outputs": [],
   "source": [
    "def generator_builder(num_fet = 2):\n",
    "    \n",
    "  # 80 * 2 = 162\n",
    "    generator = keras.models.Sequential([\n",
    "    keras.layers.Input(shape = num_fet * 2), \n",
    "    keras.layers.Dense(150, 'relu'),\n",
    "    keras.layers.Dense(100, 'relu'),\n",
    "    keras.layers.Dense(2, 'sigmoid')\n",
    "  ])\n",
    "    return generator"
   ]
  },
  {
   "cell_type": "code",
   "execution_count": 74,
   "id": "b633dc12-0e7c-4482-a4df-d19862167318",
   "metadata": {},
   "outputs": [],
   "source": [
    "def discriminator_builder(num_fet = 2):\n",
    "    \n",
    "  # 80 * 2 = 162\n",
    "    discriminator = keras.models.Sequential([\n",
    "    keras.layers.Input(shape = num_fet * 2),\n",
    "    keras.layers.Dense(150, 'relu'),\n",
    "    keras.layers.Dense(100, 'relu'),\n",
    "    keras.layers.Dense(2, 'sigmoid'),\n",
    "  ])\n",
    "\n",
    "    return discriminator"
   ]
  },
  {
   "cell_type": "code",
   "execution_count": 75,
   "id": "b6704917-a74a-446e-98de-db3c3637ac69",
   "metadata": {},
   "outputs": [],
   "source": [
    "def discriminator_loss(m, m_hat):\n",
    "    temp = tf.math.multiply(m, tf.math.log(m_hat + 1e-8))\n",
    "    temp += tf.math.multiply(tf.ones_like(m) - m , tf.math.log(tf.ones_like(m_hat) - m_hat + 1e-8))\n",
    "    return -tf.reduce_mean(temp)"
   ]
  },
  {
   "cell_type": "code",
   "execution_count": 76,
   "id": "4a0fffeb-7cbf-4915-8c29-94110b8441db",
   "metadata": {},
   "outputs": [],
   "source": [
    "def generator_loss(m, m_hat, x, x_hat, alpha = 10):\n",
    "    loss = -tf.math.multiply((tf.ones_like(m)-m), tf.math.log(m_hat+1e-8))\n",
    "    loss += alpha * tf.multiply(m, (x - x_hat) ** 2)\n",
    "    return tf.reduce_mean(loss)"
   ]
  },
  {
   "cell_type": "code",
   "execution_count": 77,
   "id": "541d29c3-1b48-470a-9afd-4fe9369c963d",
   "metadata": {},
   "outputs": [],
   "source": [
    "def hint_smapler(batch_size = 128, num_fet = 2, hint_rate = 0.9):\n",
    "    A = np.random.uniform(0., 1., size = [batch_size, num_fet])\n",
    "    B = hint_rate > A\n",
    "    C = 1.*B\n",
    "    return C"
   ]
  },
  {
   "cell_type": "code",
   "execution_count": 78,
   "id": "294d5389-2ede-4e03-8eb1-df73c29568fa",
   "metadata": {},
   "outputs": [],
   "source": [
    "generator_optimizer = keras.optimizers.SGD(1e-4)\n",
    "discriminator_optimizer = keras.optimizers.SGD(1e-4)"
   ]
  },
  {
   "cell_type": "code",
   "execution_count": 79,
   "id": "23176628-cd5f-4550-be67-f7a0e42b9763",
   "metadata": {},
   "outputs": [],
   "source": [
    "generator = generator_builder()\n",
    "discriminator = discriminator_builder()"
   ]
  },
  {
   "cell_type": "code",
   "execution_count": 80,
   "id": "190cd6cc-6ee5-486f-8be3-7f2f4779c622",
   "metadata": {},
   "outputs": [],
   "source": [
    "@tf.function\n",
    "def train_step(batch, epoch_num):\n",
    "     \n",
    "    m = tf.where(tf.math.is_nan(batch), tf.zeros_like(batch), tf.ones_like(batch))\n",
    "    batch_C = tf.where(tf.math.is_nan(batch), tf.zeros_like(batch), batch)\n",
    "    z = np.random.uniform(0, 0.01, size = batch.shape)\n",
    "    batch = tf.math.multiply(batch_C, m) + tf.math.multiply((tf.ones_like(m) - m), z)\n",
    "  \n",
    "    with tf.GradientTape() as gen_tape, tf.GradientTape() as disc_tape:\n",
    "        X_temp = tf.cast(generator(tf.concat([batch, m], 1), training = True), tf.float64)\n",
    "        X_hat = tf.math.multiply(m, batch) + tf.math.multiply((tf.ones_like(m) - m), X_temp)\n",
    "\n",
    "        H = tf.math.multiply(hint_smapler(),  m)\n",
    "        M_hat = tf.cast(discriminator(tf.concat([X_hat, H], 1), training = True), tf.float64)\n",
    "\n",
    "        disc_loss = discriminator_loss(m, M_hat)\n",
    "        gen_loss = generator_loss(m, M_hat, batch, X_hat, alpha = 10)\n",
    "\n",
    "    gen_grad = gen_tape.gradient(gen_loss, generator.trainable_variables)\n",
    "    disc_grad = disc_tape.gradient(disc_loss, discriminator.trainable_variables)\n",
    "    generator_optimizer.apply_gradients(zip(gen_grad, generator.trainable_variables))\n",
    "    discriminator_optimizer.apply_gradients((zip(disc_grad, discriminator.trainable_variables)))\n",
    "    return gen_loss, disc_loss"
   ]
  },
  {
   "cell_type": "code",
   "execution_count": 81,
   "id": "4a1296d6-ae7a-4277-b98f-020d81d6c1de",
   "metadata": {},
   "outputs": [],
   "source": [
    "def train(dataset, EPOCHS):\n",
    "    losses_gen = []\n",
    "    losses_disc  = []\n",
    "    for epoch in range(1, EPOCHS+1):\n",
    "        print(f'Epoch {epoch} / {EPOCHS}:', end=' ')\n",
    "        t0 = time.time()\n",
    "        for batch in dataset:\n",
    "            gen_loss, disc_loss = train_step(batch, epoch)\n",
    "            losses_gen.append(gen_loss)\n",
    "            losses_disc.append(disc_loss)\n",
    "        t1 = time.time()\n",
    "        print(f'gen_loss = {gen_loss}, disc_loss = {disc_loss}, time = {t1 - t0}')\n",
    "    return losses_gen, losses_disc"
   ]
  },
  {
   "cell_type": "code",
   "execution_count": 82,
   "id": "a3b3e283-ce29-43f7-843c-6104e8ac9ccb",
   "metadata": {},
   "outputs": [
    {
     "name": "stdout",
     "output_type": "stream",
     "text": [
      "Epoch 1 / 10: gen_loss = 0.00999752461512054, disc_loss = 0.43263311279806993, time = 61.49548840522766\n",
      "Epoch 2 / 10: gen_loss = 0.007188809819797987, disc_loss = 0.2552474802069849, time = 48.97811985015869\n",
      "Epoch 3 / 10: gen_loss = 0.0030872797375017845, disc_loss = 0.14757623328862907, time = 55.83589053153992\n",
      "Epoch 4 / 10: gen_loss = 0.0025184686546911904, disc_loss = 0.10592938958993495, time = 38.49400568008423\n",
      "Epoch 5 / 10: gen_loss = 0.00416928489435388, disc_loss = 0.14504506596088823, time = 39.88294792175293\n",
      "Epoch 6 / 10: gen_loss = 0.001824045219274675, disc_loss = 0.07433178363854938, time = 39.771244287490845\n",
      "Epoch 7 / 10: gen_loss = 0.0005822959045297458, disc_loss = 0.05420848896186601, time = 54.736079931259155\n",
      "Epoch 8 / 10: gen_loss = 0.0027265945352339467, disc_loss = 0.10943112712692485, time = 45.91832613945007\n",
      "Epoch 9 / 10: gen_loss = 0.0024296197792368114, disc_loss = 0.12411238537381686, time = 52.899868965148926\n",
      "Epoch 10 / 10: gen_loss = 0.002154284913212338, disc_loss = 0.08339339557293182, time = 45.100274085998535\n"
     ]
    }
   ],
   "source": [
    "gen_loss, disc_loss = train(train_dataset, EPOCHS = 10)"
   ]
  },
  {
   "cell_type": "code",
   "execution_count": 83,
   "id": "600d3b83-7ef4-4980-968b-44a94f489063",
   "metadata": {},
   "outputs": [
    {
     "data": {
      "image/png": "[encoded data removed]",
      "text/plain": [
       "<Figure size 2000x1000 with 1 Axes>"
      ]
     },
     "metadata": {},
     "output_type": "display_data"
    }
   ],
   "source": [
    "plt.figure(figsize = (20, 10))\n",
    "plt.plot(gen_loss, color = 'orange')\n",
    "plt.title('Generator Loss')\n",
    "plt.xlabel('Iter')\n",
    "plt.ylabel('Loss')\n",
    "plt.show()"
   ]
  },
  {
   "cell_type": "code",
   "execution_count": 84,
   "id": "42eb4ac3-e7c0-4d56-b977-f5b39aae8f74",
   "metadata": {},
   "outputs": [
    {
     "data": {
      "image/png": "[encoded data removed]",
      "text/plain": [
       "<Figure size 2000x1000 with 1 Axes>"
      ]
     },
     "metadata": {},
     "output_type": "display_data"
    }
   ],
   "source": [
    "plt.figure(figsize = (20, 10))\n",
    "plt.plot(disc_loss, color = 'orange')\n",
    "plt.title('Disciriminator Loss')\n",
    "plt.xlabel('Iter')\n",
    "plt.ylabel('Loss')\n",
    "plt.show()"
   ]
  },
  {
   "cell_type": "code",
   "execution_count": 85,
   "id": "35ae84db-1ec4-4f5e-8447-34bb0982bc09",
   "metadata": {},
   "outputs": [],
   "source": [
    "m = tf.where(tf.math.is_nan(train_data), tf.zeros_like(train_data), tf.ones_like(train_data))\n",
    "train_data_C = tf.where(tf.math.is_nan(train_data), tf.zeros_like(train_data), train_data)\n",
    "z = np.random.uniform(0, 0.01, size = train_data.shape)\n",
    "train_data = tf.math.multiply(train_data_C, m) + tf.math.multiply((tf.ones_like(m) - m), z)"
   ]
  },
  {
   "cell_type": "code",
   "execution_count": 86,
   "id": "4ca84fec-9d1e-465f-afa0-6b32c34e024c",
   "metadata": {},
   "outputs": [],
   "source": [
    "X_temp = tf.cast(generator(tf.concat([train_data, m], 1), training = True), tf.float64)\n",
    "X_hat = tf.math.multiply(m, train_data) + tf.math.multiply((tf.ones_like(m) - m), X_temp) "
   ]
  },
  {
   "cell_type": "code",
   "execution_count": 88,
   "id": "07234f4f-8b26-4ba9-a740-2c6e323de552",
   "metadata": {},
   "outputs": [],
   "source": [
    "pred = scaler.inverse_transform(X_hat)\n",
    "df_ = df#.drop(['row_id'], axis = 1)\n",
    "test = []\n",
    "for idx_col, col in enumerate(df):\n",
    "    for idx_row, row in enumerate(df.loc[:, col]):\n",
    "        if np.isnan(row):\n",
    "            test.append(f'{idx_row}-{col}')\n",
    "res = []\n",
    "for col_idx, col in enumerate(df_):\n",
    "    for row_idx, row in enumerate(df_.loc[:, col]):\n",
    "        if np.isnan(row):\n",
    "            res.append(pred[row_idx, col_idx])"
   ]
  },
  {
   "cell_type": "code",
   "execution_count": 89,
   "id": "7f7763ed-789d-4d51-85a6-593bac24e8af",
   "metadata": {},
   "outputs": [],
   "source": [
    "out = np.array([test, res])\n",
    "out = pd.DataFrame(out.T)\n",
    "out = out.rename({0: 'row-col', 1: 'value'}, axis = 1)\n",
    "out.to_csv('sub3_temp.csv', index = False)"
   ]
  },
  {
   "cell_type": "code",
   "execution_count": 90,
   "id": "43ab0aca-ba58-4dae-9b6a-1a290c7f8eff",
   "metadata": {},
   "outputs": [
    {
     "data": {
      "text/html": [
       "<div>\n",
       "<style scoped>\n",
       "    .dataframe tbody tr th:only-of-type {\n",
       "        vertical-align: middle;\n",
       "    }\n",
       "\n",
       "    .dataframe tbody tr th {\n",
       "        vertical-align: top;\n",
       "    }\n",
       "\n",
       "    .dataframe thead th {\n",
       "        text-align: right;\n",
       "    }\n",
       "</style>\n",
       "<table border=\"1\" class=\"dataframe\">\n",
       "  <thead>\n",
       "    <tr style=\"text-align: right;\">\n",
       "      <th></th>\n",
       "      <th>row-col</th>\n",
       "      <th>value</th>\n",
       "    </tr>\n",
       "  </thead>\n",
       "  <tbody>\n",
       "    <tr>\n",
       "      <th>0</th>\n",
       "      <td>21-F_1_0</td>\n",
       "      <td>0.46236643895818186</td>\n",
       "    </tr>\n",
       "    <tr>\n",
       "      <th>1</th>\n",
       "      <td>128-F_1_0</td>\n",
       "      <td>0.4315307179472188</td>\n",
       "    </tr>\n",
       "    <tr>\n",
       "      <th>2</th>\n",
       "      <td>182-F_1_0</td>\n",
       "      <td>0.48884972910882096</td>\n",
       "    </tr>\n",
       "    <tr>\n",
       "      <th>3</th>\n",
       "      <td>191-F_1_0</td>\n",
       "      <td>0.48660543657651556</td>\n",
       "    </tr>\n",
       "    <tr>\n",
       "      <th>4</th>\n",
       "      <td>289-F_1_0</td>\n",
       "      <td>0.48968287950149336</td>\n",
       "    </tr>\n",
       "  </tbody>\n",
       "</table>\n",
       "</div>"
      ],
      "text/plain": [
       "     row-col                value\n",
       "0   21-F_1_0  0.46236643895818186\n",
       "1  128-F_1_0   0.4315307179472188\n",
       "2  182-F_1_0  0.48884972910882096\n",
       "3  191-F_1_0  0.48660543657651556\n",
       "4  289-F_1_0  0.48968287950149336"
      ]
     },
     "execution_count": 90,
     "metadata": {},
     "output_type": "execute_result"
    }
   ],
   "source": [
    "out.head()"
   ]
  },
  {
   "cell_type": "code",
   "execution_count": 91,
   "id": "2f432075-492c-417f-9bad-9d3999104403",
   "metadata": {},
   "outputs": [
    {
     "data": {
      "text/html": [
       "<div>\n",
       "<style scoped>\n",
       "    .dataframe tbody tr th:only-of-type {\n",
       "        vertical-align: middle;\n",
       "    }\n",
       "\n",
       "    .dataframe tbody tr th {\n",
       "        vertical-align: top;\n",
       "    }\n",
       "\n",
       "    .dataframe thead th {\n",
       "        text-align: right;\n",
       "    }\n",
       "</style>\n",
       "<table border=\"1\" class=\"dataframe\">\n",
       "  <thead>\n",
       "    <tr style=\"text-align: right;\">\n",
       "      <th></th>\n",
       "      <th>F_1_0</th>\n",
       "      <th>F_1_1</th>\n",
       "    </tr>\n",
       "  </thead>\n",
       "  <tbody>\n",
       "    <tr>\n",
       "      <th>0</th>\n",
       "      <td>-0.354591</td>\n",
       "      <td>-0.464038</td>\n",
       "    </tr>\n",
       "    <tr>\n",
       "      <th>1</th>\n",
       "      <td>1.380940</td>\n",
       "      <td>-0.499626</td>\n",
       "    </tr>\n",
       "    <tr>\n",
       "      <th>2</th>\n",
       "      <td>0.256023</td>\n",
       "      <td>-1.059874</td>\n",
       "    </tr>\n",
       "    <tr>\n",
       "      <th>3</th>\n",
       "      <td>-0.728420</td>\n",
       "      <td>-2.432399</td>\n",
       "    </tr>\n",
       "    <tr>\n",
       "      <th>4</th>\n",
       "      <td>0.590212</td>\n",
       "      <td>-0.066127</td>\n",
       "    </tr>\n",
       "  </tbody>\n",
       "</table>\n",
       "</div>"
      ],
      "text/plain": [
       "      F_1_0     F_1_1\n",
       "0 -0.354591 -0.464038\n",
       "1  1.380940 -0.499626\n",
       "2  0.256023 -1.059874\n",
       "3 -0.728420 -2.432399\n",
       "4  0.590212 -0.066127"
      ]
     },
     "execution_count": 91,
     "metadata": {},
     "output_type": "execute_result"
    }
   ],
   "source": [
    "df.head()"
   ]
  },
  {
   "cell_type": "code",
   "execution_count": 104,
   "id": "a61cb256-75d9-4545-a9db-e541fb7280bc",
   "metadata": {},
   "outputs": [
    {
     "data": {
      "text/html": [
       "<div>\n",
       "<style scoped>\n",
       "    .dataframe tbody tr th:only-of-type {\n",
       "        vertical-align: middle;\n",
       "    }\n",
       "\n",
       "    .dataframe tbody tr th {\n",
       "        vertical-align: top;\n",
       "    }\n",
       "\n",
       "    .dataframe thead th {\n",
       "        text-align: right;\n",
       "    }\n",
       "</style>\n",
       "<table border=\"1\" class=\"dataframe\">\n",
       "  <thead>\n",
       "    <tr style=\"text-align: right;\">\n",
       "      <th></th>\n",
       "      <th>F_1_0</th>\n",
       "      <th>F_1_1</th>\n",
       "    </tr>\n",
       "  </thead>\n",
       "  <tbody>\n",
       "    <tr>\n",
       "      <th>180</th>\n",
       "      <td>0.135725</td>\n",
       "      <td>-0.136011</td>\n",
       "    </tr>\n",
       "    <tr>\n",
       "      <th>181</th>\n",
       "      <td>0.339243</td>\n",
       "      <td>1.432538</td>\n",
       "    </tr>\n",
       "    <tr>\n",
       "      <th>182</th>\n",
       "      <td>NaN</td>\n",
       "      <td>-1.528396</td>\n",
       "    </tr>\n",
       "  </tbody>\n",
       "</table>\n",
       "</div>"
      ],
      "text/plain": [
       "        F_1_0     F_1_1\n",
       "180  0.135725 -0.136011\n",
       "181  0.339243  1.432538\n",
       "182       NaN -1.528396"
      ]
     },
     "execution_count": 104,
     "metadata": {},
     "output_type": "execute_result"
    }
   ],
   "source": [
    "df.iloc[180:183]"
   ]
  },
  {
   "cell_type": "code",
   "execution_count": 103,
   "id": "554762a8-0928-4b1d-a085-2645457076dd",
   "metadata": {},
   "outputs": [
    {
     "data": {
      "text/html": [
       "<div>\n",
       "<style scoped>\n",
       "    .dataframe tbody tr th:only-of-type {\n",
       "        vertical-align: middle;\n",
       "    }\n",
       "\n",
       "    .dataframe tbody tr th {\n",
       "        vertical-align: top;\n",
       "    }\n",
       "\n",
       "    .dataframe thead th {\n",
       "        text-align: right;\n",
       "    }\n",
       "</style>\n",
       "<table border=\"1\" class=\"dataframe\">\n",
       "  <thead>\n",
       "    <tr style=\"text-align: right;\">\n",
       "      <th></th>\n",
       "      <th>row-col</th>\n",
       "      <th>value</th>\n",
       "    </tr>\n",
       "  </thead>\n",
       "  <tbody>\n",
       "    <tr>\n",
       "      <th>126</th>\n",
       "      <td>6869-F_1_0</td>\n",
       "      <td>0.4344480566512521</td>\n",
       "    </tr>\n",
       "    <tr>\n",
       "      <th>127</th>\n",
       "      <td>6937-F_1_0</td>\n",
       "      <td>0.4463726595901204</td>\n",
       "    </tr>\n",
       "    <tr>\n",
       "      <th>128</th>\n",
       "      <td>6977-F_1_0</td>\n",
       "      <td>0.4892597724824323</td>\n",
       "    </tr>\n",
       "  </tbody>\n",
       "</table>\n",
       "</div>"
      ],
      "text/plain": [
       "        row-col               value\n",
       "126  6869-F_1_0  0.4344480566512521\n",
       "127  6937-F_1_0  0.4463726595901204\n",
       "128  6977-F_1_0  0.4892597724824323"
      ]
     },
     "execution_count": 103,
     "metadata": {},
     "output_type": "execute_result"
    }
   ],
   "source": [
    "out.iloc[126:129]"
   ]
  },
  {
   "cell_type": "code",
   "execution_count": null,
   "id": "0f50ccd2-c0ec-4ab8-b90c-4373485eda31",
   "metadata": {},
   "outputs": [],
   "source": []
  }
 ],
 "metadata": {
  "kernelspec": {
   "display_name": "Python (GPU)",
   "language": "python",
   "name": "gpu_env"
  },
  "language_info": {
   "codemirror_mode": {
    "name": "ipython",
    "version": 3
   },
   "file_extension": ".py",
   "mimetype": "text/x-python",
   "name": "python",
   "nbconvert_exporter": "python",
   "pygments_lexer": "ipython3",
   "version": "3.10.9"
  }
 },
 "nbformat": 4,
 "nbformat_minor": 5
}
